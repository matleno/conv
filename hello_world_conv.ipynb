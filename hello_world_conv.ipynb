{
  "cells": [
    {
      "cell_type": "markdown",
      "metadata": {
        "id": "Hn5FBT31Cu-1"
      },
      "source": [
        "# Rete convoluzionale per MNIST"
      ]
    },
    {
      "cell_type": "code",
      "execution_count": 21,
      "metadata": {
        "id": "RPlAAJZ0Lr93"
      },
      "outputs": [],
      "source": [
        "import numpy as np\n",
        "import tensorflow as tf\n",
        "import matplotlib.pyplot as plt\n",
        "\n",
        "from tensorflow.keras.models import Sequential\n",
        "from tensorflow.keras.layers import Dense, Dropout\n",
        "from tensorflow.keras.datasets import mnist\n",
        "from tensorflow.keras.optimizers import SGD\n",
        "from tensorflow.keras.utils import to_categorical\n",
        "from tensorflow.keras.layers import Conv2D, MaxPooling2D, Dense, Flatten"
      ]
    },
    {
      "cell_type": "code",
      "execution_count": 29,
      "metadata": {
        "id": "AnK__zaXLr-H"
      },
      "outputs": [],
      "source": [
        "num_filters = 8\n",
        "filter_size = 3\n",
        "stride=1 # Default\n",
        "padding='valid' # Default \n",
        "pool_size = 2\n",
        "\n",
        "model = Sequential()\n",
        "\n",
        "model.add(Conv2D(activation='sigmoid', filters=num_filters, kernel_size=filter_size, strides=stride, padding=padding, input_shape=(28, 28, 1)))\n",
        "model.add(MaxPooling2D(pool_size=pool_size))\n",
        "model.add(Dropout(0.3))\n",
        "model.add(Flatten()) # Esercizio: cosa fa? A cosa serve?\n",
        "model.add(Dense(10, activation='softmax'))\n",
        "\n",
        "\n"
      ]
    },
    {
      "cell_type": "markdown",
      "metadata": {
        "id": "sWMrNvRXZAKF"
      },
      "source": [
        "trainable_parameters number"
      ]
    },
    {
      "cell_type": "code",
      "execution_count": 23,
      "metadata": {
        "colab": {
          "base_uri": "https://localhost:8080/"
        },
        "id": "7QoFpheYZG0P",
        "outputId": "067aa7ff-720b-4817-845b-aa180551d78d"
      },
      "outputs": [
        {
          "name": "stdout",
          "output_type": "stream",
          "text": [
            "80\n",
            "13530\n",
            "Model: \"sequential_4\"\n",
            "_________________________________________________________________\n",
            " Layer (type)                Output Shape              Param #   \n",
            "=================================================================\n",
            " conv2d_4 (Conv2D)           (None, 26, 26, 8)         80        \n",
            "                                                                 \n",
            " max_pooling2d_4 (MaxPooling  (None, 13, 13, 8)        0         \n",
            " 2D)                                                             \n",
            "                                                                 \n",
            " dropout_1 (Dropout)         (None, 13, 13, 8)         0         \n",
            "                                                                 \n",
            " flatten_2 (Flatten)         (None, 1352)              0         \n",
            "                                                                 \n",
            " dense_2 (Dense)             (None, 10)                13530     \n",
            "                                                                 \n",
            "=================================================================\n",
            "Total params: 13,610\n",
            "Trainable params: 13,610\n",
            "Non-trainable params: 0\n",
            "_________________________________________________________________\n"
          ]
        }
      ],
      "source": [
        "print((filter_size*filter_size+1)*num_filters)\n",
        "print((13*13*num_filters*10+10))\n",
        "model.summary()"
      ]
    },
    {
      "cell_type": "markdown",
      "metadata": {
        "id": "pN9JNIJcMl07"
      },
      "source": [
        "## dataset"
      ]
    },
    {
      "cell_type": "code",
      "execution_count": 24,
      "metadata": {
        "colab": {
          "base_uri": "https://localhost:8080/"
        },
        "id": "jDMEV7QPLr-c",
        "outputId": "0e06d97c-486e-404e-d0af-140c2aa65f9b"
      },
      "outputs": [
        {
          "name": "stdout",
          "output_type": "stream",
          "text": [
            "(60000, 28, 28)\n",
            "(28, 28)\n",
            "[  0   0   0   0   0   0   0   0   0   0   0   0   0  91 254  77   0   0\n",
            "   0   0   0   0   0   0   0   0   0   0]\n",
            "(60000, 28, 28, 1)\n",
            "(28, 28, 1)\n",
            "[[-0.5       ]\n",
            " [-0.5       ]\n",
            " [-0.5       ]\n",
            " [-0.5       ]\n",
            " [-0.5       ]\n",
            " [-0.5       ]\n",
            " [-0.5       ]\n",
            " [-0.5       ]\n",
            " [-0.5       ]\n",
            " [-0.5       ]\n",
            " [-0.5       ]\n",
            " [-0.5       ]\n",
            " [-0.5       ]\n",
            " [-0.14313725]\n",
            " [ 0.49607843]\n",
            " [-0.19803922]\n",
            " [-0.5       ]\n",
            " [-0.5       ]\n",
            " [-0.5       ]\n",
            " [-0.5       ]\n",
            " [-0.5       ]\n",
            " [-0.5       ]\n",
            " [-0.5       ]\n",
            " [-0.5       ]\n",
            " [-0.5       ]\n",
            " [-0.5       ]\n",
            " [-0.5       ]\n",
            " [-0.5       ]]\n"
          ]
        }
      ],
      "source": [
        "(data,labels), (data_test,labels_test)=mnist.load_data() # load data.\n",
        "\n",
        "# Check data\n",
        "print(data.shape) # 60000 immagini 28x28\n",
        "print(data[42].shape) \n",
        "print(data[42][21]) # gray scale. int [0 , 255]\n",
        "\n",
        "# Normalization & conversion\n",
        "data=data/255-0.5\n",
        "data_test=data_test/255-0.5\n",
        "data=data.reshape(-1,28,28,1)\n",
        "data_test=data_test.reshape(-1,28,28,1)\n",
        "\n",
        "# Check again\n",
        "print(data.shape) # 60000 immagini 28x28\n",
        "print(data[42].shape) \n",
        "print(data[42][21]) # gray scale. int [0 , 255]\n",
        "\n",
        "# Convert labels to categorical one-hot encoding\n",
        "one_hot_labels = to_categorical(labels, num_classes=10)\n",
        "one_hot_labels_test = to_categorical(labels_test, num_classes=10)"
      ]
    },
    {
      "cell_type": "markdown",
      "metadata": {
        "id": "IfSuuCE2Lr-b"
      },
      "source": [
        "## Training"
      ]
    },
    {
      "cell_type": "code",
      "execution_count": 30,
      "metadata": {
        "colab": {
          "base_uri": "https://localhost:8080/"
        },
        "id": "vf_QdmS4t1_h",
        "outputId": "ac23df11-c273-4847-cd63-a8e37a044147"
      },
      "outputs": [
        {
          "data": {
            "text/plain": [
              "{'name': 'SGD',\n",
              " 'learning_rate': 0.01,\n",
              " 'decay': 0.0,\n",
              " 'momentum': 0.0,\n",
              " 'nesterov': False}"
            ]
          },
          "execution_count": 30,
          "metadata": {},
          "output_type": "execute_result"
        }
      ],
      "source": [
        "from tensorflow.keras.callbacks import ModelCheckpoint,EarlyStopping,LearningRateScheduler,TensorBoard\n",
        "\n",
        "mc=ModelCheckpoint('best_model_CNN.hdf5', monitor='accuracy', save_best_only=True, verbose=1)\n",
        "es=EarlyStopping(verbose=2, monitor='val_loss',min_delta=0.001,patience=5)\n",
        "\n",
        "# learning rate 0.001 per le prime 10 epoche, poi decresce esponenzialmente.\n",
        "def scheduler(epoch):\n",
        "  if epoch < 10:\n",
        "    return 0.01\n",
        "  else:\n",
        "    return 0.01 * tf.math.exp(0.1 * (10 - epoch))\n",
        "\n",
        "lrs=LearningRateScheduler(scheduler)\n",
        "\n",
        "model.compile(optimizer='sgd',loss='categorical_crossentropy',metrics=['accuracy'])\n",
        "model.optimizer.get_config()\n"
      ]
    },
    {
      "cell_type": "code",
      "execution_count": 31,
      "metadata": {},
      "outputs": [
        {
          "name": "stdout",
          "output_type": "stream",
          "text": [
            "Epoch 1/100\n",
            "1671/1688 [============================>.] - ETA: 0s - loss: 1.3760 - accuracy: 0.5638\n",
            "Epoch 1: accuracy improved from -inf to 0.56637, saving model to best_model_CNN.hdf5\n",
            "1688/1688 [==============================] - 6s 3ms/step - loss: 1.3690 - accuracy: 0.5664 - val_loss: 0.5146 - val_accuracy: 0.8790 - lr: 0.0100\n",
            "Epoch 2/100\n",
            "1682/1688 [============================>.] - ETA: 0s - loss: 0.5612 - accuracy: 0.8350\n",
            "Epoch 2: accuracy improved from 0.56637 to 0.83511, saving model to best_model_CNN.hdf5\n",
            "1688/1688 [==============================] - 5s 3ms/step - loss: 0.5611 - accuracy: 0.8351 - val_loss: 0.3678 - val_accuracy: 0.9015 - lr: 0.0100\n",
            "Epoch 3/100\n",
            "1688/1688 [==============================] - ETA: 0s - loss: 0.4765 - accuracy: 0.8559\n",
            "Epoch 3: accuracy improved from 0.83511 to 0.85587, saving model to best_model_CNN.hdf5\n",
            "1688/1688 [==============================] - 5s 3ms/step - loss: 0.4765 - accuracy: 0.8559 - val_loss: 0.3205 - val_accuracy: 0.9113 - lr: 0.0100\n",
            "Epoch 4/100\n",
            "1686/1688 [============================>.] - ETA: 0s - loss: 0.4445 - accuracy: 0.8651\n",
            "Epoch 4: accuracy improved from 0.85587 to 0.86511, saving model to best_model_CNN.hdf5\n",
            "1688/1688 [==============================] - 5s 3ms/step - loss: 0.4445 - accuracy: 0.8651 - val_loss: 0.2980 - val_accuracy: 0.9170 - lr: 0.0100\n",
            "Epoch 5/100\n",
            "1672/1688 [============================>.] - ETA: 0s - loss: 0.4249 - accuracy: 0.8715\n",
            "Epoch 5: accuracy improved from 0.86511 to 0.87150, saving model to best_model_CNN.hdf5\n",
            "1688/1688 [==============================] - 5s 3ms/step - loss: 0.4250 - accuracy: 0.8715 - val_loss: 0.2863 - val_accuracy: 0.9185 - lr: 0.0100\n",
            "Epoch 6/100\n",
            "1677/1688 [============================>.] - ETA: 0s - loss: 0.4099 - accuracy: 0.8760\n",
            "Epoch 6: accuracy improved from 0.87150 to 0.87602, saving model to best_model_CNN.hdf5\n",
            "1688/1688 [==============================] - 5s 3ms/step - loss: 0.4098 - accuracy: 0.8760 - val_loss: 0.2807 - val_accuracy: 0.9213 - lr: 0.0100\n",
            "Epoch 7/100\n",
            "1686/1688 [============================>.] - ETA: 0s - loss: 0.4024 - accuracy: 0.8773\n",
            "Epoch 7: accuracy improved from 0.87602 to 0.87724, saving model to best_model_CNN.hdf5\n",
            "1688/1688 [==============================] - 5s 3ms/step - loss: 0.4026 - accuracy: 0.8772 - val_loss: 0.2723 - val_accuracy: 0.9230 - lr: 0.0100\n",
            "Epoch 8/100\n",
            "1685/1688 [============================>.] - ETA: 0s - loss: 0.3970 - accuracy: 0.8799\n",
            "Epoch 8: accuracy improved from 0.87724 to 0.87983, saving model to best_model_CNN.hdf5\n",
            "1688/1688 [==============================] - 5s 3ms/step - loss: 0.3971 - accuracy: 0.8798 - val_loss: 0.2671 - val_accuracy: 0.9223 - lr: 0.0100\n",
            "Epoch 9/100\n",
            "1683/1688 [============================>.] - ETA: 0s - loss: 0.3871 - accuracy: 0.8846\n",
            "Epoch 9: accuracy improved from 0.87983 to 0.88469, saving model to best_model_CNN.hdf5\n",
            "1688/1688 [==============================] - 5s 3ms/step - loss: 0.3870 - accuracy: 0.8847 - val_loss: 0.2626 - val_accuracy: 0.9252 - lr: 0.0100\n",
            "Epoch 10/100\n",
            "1676/1688 [============================>.] - ETA: 0s - loss: 0.3823 - accuracy: 0.8840\n",
            "Epoch 10: accuracy did not improve from 0.88469\n",
            "1688/1688 [==============================] - 6s 3ms/step - loss: 0.3827 - accuracy: 0.8841 - val_loss: 0.2603 - val_accuracy: 0.9238 - lr: 0.0100\n",
            "Epoch 11/100\n",
            "1683/1688 [============================>.] - ETA: 0s - loss: 0.3762 - accuracy: 0.8873\n",
            "Epoch 11: accuracy improved from 0.88469 to 0.88726, saving model to best_model_CNN.hdf5\n",
            "1688/1688 [==============================] - 6s 3ms/step - loss: 0.3762 - accuracy: 0.8873 - val_loss: 0.2552 - val_accuracy: 0.9285 - lr: 0.0100\n",
            "Epoch 12/100\n",
            "1687/1688 [============================>.] - ETA: 0s - loss: 0.3778 - accuracy: 0.8861\n",
            "Epoch 12: accuracy did not improve from 0.88726\n",
            "1688/1688 [==============================] - 6s 4ms/step - loss: 0.3778 - accuracy: 0.8861 - val_loss: 0.2533 - val_accuracy: 0.9283 - lr: 0.0090\n",
            "Epoch 13/100\n",
            "1678/1688 [============================>.] - ETA: 0s - loss: 0.3713 - accuracy: 0.8893\n",
            "Epoch 13: accuracy improved from 0.88726 to 0.88930, saving model to best_model_CNN.hdf5\n",
            "1688/1688 [==============================] - 6s 4ms/step - loss: 0.3711 - accuracy: 0.8893 - val_loss: 0.2531 - val_accuracy: 0.9277 - lr: 0.0082\n",
            "Epoch 14/100\n",
            "1681/1688 [============================>.] - ETA: 0s - loss: 0.3684 - accuracy: 0.8912\n",
            "Epoch 14: accuracy improved from 0.88930 to 0.89107, saving model to best_model_CNN.hdf5\n",
            "1688/1688 [==============================] - 6s 3ms/step - loss: 0.3688 - accuracy: 0.8911 - val_loss: 0.2500 - val_accuracy: 0.9287 - lr: 0.0074\n",
            "Epoch 15/100\n",
            "1672/1688 [============================>.] - ETA: 0s - loss: 0.3650 - accuracy: 0.8894\n",
            "Epoch 15: accuracy did not improve from 0.89107\n",
            "1688/1688 [==============================] - 6s 3ms/step - loss: 0.3647 - accuracy: 0.8894 - val_loss: 0.2475 - val_accuracy: 0.9303 - lr: 0.0067\n",
            "Epoch 16/100\n",
            "1684/1688 [============================>.] - ETA: 0s - loss: 0.3610 - accuracy: 0.8924\n",
            "Epoch 16: accuracy improved from 0.89107 to 0.89230, saving model to best_model_CNN.hdf5\n",
            "1688/1688 [==============================] - 6s 4ms/step - loss: 0.3611 - accuracy: 0.8923 - val_loss: 0.2480 - val_accuracy: 0.9283 - lr: 0.0061\n",
            "Epoch 17/100\n",
            "1685/1688 [============================>.] - ETA: 0s - loss: 0.3599 - accuracy: 0.8923\n",
            "Epoch 17: accuracy improved from 0.89230 to 0.89237, saving model to best_model_CNN.hdf5\n",
            "1688/1688 [==============================] - 6s 3ms/step - loss: 0.3599 - accuracy: 0.8924 - val_loss: 0.2435 - val_accuracy: 0.9325 - lr: 0.0055\n",
            "Epoch 18/100\n",
            "1680/1688 [============================>.] - ETA: 0s - loss: 0.3582 - accuracy: 0.8924\n",
            "Epoch 18: accuracy improved from 0.89237 to 0.89257, saving model to best_model_CNN.hdf5\n",
            "1688/1688 [==============================] - 5s 3ms/step - loss: 0.3577 - accuracy: 0.8926 - val_loss: 0.2442 - val_accuracy: 0.9312 - lr: 0.0050\n",
            "Epoch 19/100\n",
            "1680/1688 [============================>.] - ETA: 0s - loss: 0.3571 - accuracy: 0.8932\n",
            "Epoch 19: accuracy improved from 0.89257 to 0.89306, saving model to best_model_CNN.hdf5\n",
            "1688/1688 [==============================] - 5s 3ms/step - loss: 0.3576 - accuracy: 0.8931 - val_loss: 0.2421 - val_accuracy: 0.9325 - lr: 0.0045\n",
            "Epoch 20/100\n",
            "1677/1688 [============================>.] - ETA: 0s - loss: 0.3543 - accuracy: 0.8949\n",
            "Epoch 20: accuracy improved from 0.89306 to 0.89489, saving model to best_model_CNN.hdf5\n",
            "1688/1688 [==============================] - 6s 3ms/step - loss: 0.3542 - accuracy: 0.8949 - val_loss: 0.2412 - val_accuracy: 0.9320 - lr: 0.0041\n",
            "Epoch 21/100\n",
            "1688/1688 [==============================] - ETA: 0s - loss: 0.3553 - accuracy: 0.8936\n",
            "Epoch 21: accuracy did not improve from 0.89489\n",
            "1688/1688 [==============================] - 5s 3ms/step - loss: 0.3553 - accuracy: 0.8936 - val_loss: 0.2403 - val_accuracy: 0.9323 - lr: 0.0037\n",
            "Epoch 22/100\n",
            "1683/1688 [============================>.] - ETA: 0s - loss: 0.3531 - accuracy: 0.8941\n",
            "Epoch 22: accuracy did not improve from 0.89489\n",
            "1688/1688 [==============================] - 5s 3ms/step - loss: 0.3530 - accuracy: 0.8941 - val_loss: 0.2399 - val_accuracy: 0.9320 - lr: 0.0033\n",
            "Epoch 23/100\n",
            "1685/1688 [============================>.] - ETA: 0s - loss: 0.3519 - accuracy: 0.8947\n",
            "Epoch 23: accuracy did not improve from 0.89489\n",
            "1688/1688 [==============================] - 6s 3ms/step - loss: 0.3519 - accuracy: 0.8947 - val_loss: 0.2382 - val_accuracy: 0.9330 - lr: 0.0030\n",
            "Epoch 24/100\n",
            "1679/1688 [============================>.] - ETA: 0s - loss: 0.3515 - accuracy: 0.8962\n",
            "Epoch 24: accuracy improved from 0.89489 to 0.89626, saving model to best_model_CNN.hdf5\n",
            "1688/1688 [==============================] - 6s 3ms/step - loss: 0.3515 - accuracy: 0.8963 - val_loss: 0.2380 - val_accuracy: 0.9320 - lr: 0.0027\n",
            "Epoch 25/100\n",
            "1678/1688 [============================>.] - ETA: 0s - loss: 0.3462 - accuracy: 0.8964\n",
            "Epoch 25: accuracy improved from 0.89626 to 0.89641, saving model to best_model_CNN.hdf5\n",
            "1688/1688 [==============================] - 5s 3ms/step - loss: 0.3465 - accuracy: 0.8964 - val_loss: 0.2372 - val_accuracy: 0.9330 - lr: 0.0025\n",
            "Epoch 26/100\n",
            "1683/1688 [============================>.] - ETA: 0s - loss: 0.3459 - accuracy: 0.8964\n",
            "Epoch 26: accuracy improved from 0.89641 to 0.89652, saving model to best_model_CNN.hdf5\n",
            "1688/1688 [==============================] - 5s 3ms/step - loss: 0.3457 - accuracy: 0.8965 - val_loss: 0.2365 - val_accuracy: 0.9342 - lr: 0.0022\n",
            "Epoch 27/100\n",
            "1688/1688 [==============================] - ETA: 0s - loss: 0.3469 - accuracy: 0.8965\n",
            "Epoch 27: accuracy improved from 0.89652 to 0.89654, saving model to best_model_CNN.hdf5\n",
            "1688/1688 [==============================] - 5s 3ms/step - loss: 0.3469 - accuracy: 0.8965 - val_loss: 0.2363 - val_accuracy: 0.9340 - lr: 0.0020\n",
            "Epoch 28/100\n",
            "1681/1688 [============================>.] - ETA: 0s - loss: 0.3449 - accuracy: 0.8968\n",
            "Epoch 28: accuracy improved from 0.89654 to 0.89680, saving model to best_model_CNN.hdf5\n",
            "1688/1688 [==============================] - 5s 3ms/step - loss: 0.3449 - accuracy: 0.8968 - val_loss: 0.2360 - val_accuracy: 0.9330 - lr: 0.0018\n",
            "Epoch 29/100\n",
            "1685/1688 [============================>.] - ETA: 0s - loss: 0.3458 - accuracy: 0.8976\n",
            "Epoch 29: accuracy improved from 0.89680 to 0.89757, saving model to best_model_CNN.hdf5\n",
            "1688/1688 [==============================] - 6s 3ms/step - loss: 0.3458 - accuracy: 0.8976 - val_loss: 0.2356 - val_accuracy: 0.9330 - lr: 0.0017\n",
            "Epoch 30/100\n",
            "1679/1688 [============================>.] - ETA: 0s - loss: 0.3459 - accuracy: 0.8975\n",
            "Epoch 30: accuracy did not improve from 0.89757\n",
            "1688/1688 [==============================] - 5s 3ms/step - loss: 0.3459 - accuracy: 0.8974 - val_loss: 0.2354 - val_accuracy: 0.9345 - lr: 0.0015\n",
            "Epoch 31/100\n",
            "1682/1688 [============================>.] - ETA: 0s - loss: 0.3453 - accuracy: 0.8965\n",
            "Epoch 31: accuracy did not improve from 0.89757\n",
            "1688/1688 [==============================] - 5s 3ms/step - loss: 0.3453 - accuracy: 0.8965 - val_loss: 0.2351 - val_accuracy: 0.9340 - lr: 0.0014\n",
            "Epoch 32/100\n",
            "1684/1688 [============================>.] - ETA: 0s - loss: 0.3441 - accuracy: 0.8971\n",
            "Epoch 32: accuracy did not improve from 0.89757\n",
            "1688/1688 [==============================] - 5s 3ms/step - loss: 0.3438 - accuracy: 0.8972 - val_loss: 0.2345 - val_accuracy: 0.9352 - lr: 0.0012\n",
            "Epoch 33/100\n",
            "1682/1688 [============================>.] - ETA: 0s - loss: 0.3435 - accuracy: 0.8976\n",
            "Epoch 33: accuracy improved from 0.89757 to 0.89767, saving model to best_model_CNN.hdf5\n",
            "1688/1688 [==============================] - 5s 3ms/step - loss: 0.3435 - accuracy: 0.8977 - val_loss: 0.2340 - val_accuracy: 0.9347 - lr: 0.0011\n",
            "Epoch 34/100\n",
            "1686/1688 [============================>.] - ETA: 0s - loss: 0.3425 - accuracy: 0.8982\n",
            "Epoch 34: accuracy improved from 0.89767 to 0.89828, saving model to best_model_CNN.hdf5\n",
            "1688/1688 [==============================] - 5s 3ms/step - loss: 0.3423 - accuracy: 0.8983 - val_loss: 0.2339 - val_accuracy: 0.9343 - lr: 0.0010\n",
            "Epoch 35/100\n",
            "1684/1688 [============================>.] - ETA: 0s - loss: 0.3450 - accuracy: 0.8979\n",
            "Epoch 35: accuracy did not improve from 0.89828\n",
            "1688/1688 [==============================] - 6s 3ms/step - loss: 0.3452 - accuracy: 0.8978 - val_loss: 0.2334 - val_accuracy: 0.9347 - lr: 9.0718e-04\n",
            "Epoch 36/100\n",
            "1675/1688 [============================>.] - ETA: 0s - loss: 0.3446 - accuracy: 0.8973\n",
            "Epoch 36: accuracy did not improve from 0.89828\n",
            "1688/1688 [==============================] - 5s 3ms/step - loss: 0.3447 - accuracy: 0.8973 - val_loss: 0.2336 - val_accuracy: 0.9348 - lr: 8.2085e-04\n",
            "Epoch 37/100\n",
            "1676/1688 [============================>.] - ETA: 0s - loss: 0.3426 - accuracy: 0.8982\n",
            "Epoch 37: accuracy did not improve from 0.89828\n",
            "1688/1688 [==============================] - 5s 3ms/step - loss: 0.3431 - accuracy: 0.8979 - val_loss: 0.2334 - val_accuracy: 0.9352 - lr: 7.4274e-04\n",
            "Epoch 38/100\n",
            "1679/1688 [============================>.] - ETA: 0s - loss: 0.3421 - accuracy: 0.8986\n",
            "Epoch 38: accuracy improved from 0.89828 to 0.89870, saving model to best_model_CNN.hdf5\n",
            "1688/1688 [==============================] - 5s 3ms/step - loss: 0.3421 - accuracy: 0.8987 - val_loss: 0.2333 - val_accuracy: 0.9352 - lr: 6.7206e-04\n",
            "Epoch 38: early stopping\n"
          ]
        }
      ],
      "source": [
        "history=model.fit(data, one_hot_labels, validation_split=0.1, epochs=100, batch_size=32, callbacks=[es,mc,lrs])"
      ]
    },
    {
      "cell_type": "markdown",
      "metadata": {
        "id": "eX3fWSi_Lr-s"
      },
      "source": [
        "## Test"
      ]
    },
    {
      "cell_type": "code",
      "execution_count": 32,
      "metadata": {
        "colab": {
          "base_uri": "https://localhost:8080/",
          "height": 50
        },
        "id": "U80u_jpiLr-u",
        "outputId": "2463c023-1beb-4c3b-81fe-3cfd2520242e"
      },
      "outputs": [
        {
          "name": "stdout",
          "output_type": "stream",
          "text": [
            "313/313 [==============================] - 1s 3ms/step - loss: 0.2744 - accuracy: 0.9206\n"
          ]
        },
        {
          "data": {
            "text/plain": [
              "[0.2744196951389313, 0.9205999970436096]"
            ]
          },
          "execution_count": 32,
          "metadata": {},
          "output_type": "execute_result"
        }
      ],
      "source": [
        "# accuracy and loss defined in compile.\n",
        "model.evaluate(data_test, one_hot_labels_test)"
      ]
    },
    {
      "cell_type": "markdown",
      "metadata": {
        "id": "OY6otPl7gX7q"
      },
      "source": [
        "## Saving and evaluation"
      ]
    },
    {
      "cell_type": "code",
      "execution_count": 33,
      "metadata": {
        "id": "x_rsuqUMLr_F"
      },
      "outputs": [],
      "source": [
        "#test delete\n",
        "model.save('conv.h5')  # creates a HDF5 file\n",
        "del model"
      ]
    },
    {
      "cell_type": "code",
      "execution_count": 34,
      "metadata": {
        "colab": {
          "base_uri": "https://localhost:8080/",
          "height": 50
        },
        "id": "ufCPVz4RLr_Y",
        "outputId": "1bb6c3ad-59ea-410b-d7d3-6ac6110ebcfc"
      },
      "outputs": [
        {
          "name": "stdout",
          "output_type": "stream",
          "text": [
            "1/1 [==============================] - 0s 42ms/step\n",
            "[7 2]\n"
          ]
        }
      ],
      "source": [
        "# load model\n",
        "model = tf.keras.models.load_model('conv.h5')\n",
        "predictions = model.predict(data_test[:2])\n",
        "print(np.argmax(predictions, axis=1))"
      ]
    },
    {
      "cell_type": "markdown",
      "metadata": {
        "id": "fSmYcoADLr_m"
      },
      "source": [
        "## wrong predictions visualization"
      ]
    },
    {
      "cell_type": "code",
      "execution_count": 35,
      "metadata": {
        "colab": {
          "base_uri": "https://localhost:8080/",
          "height": 70
        },
        "id": "VUmSradtLr_n",
        "outputId": "ad8582fe-f882-4e5c-d18d-575a5cf9608d"
      },
      "outputs": [
        {
          "name": "stdout",
          "output_type": "stream",
          "text": [
            "313/313 [==============================] - 0s 1ms/step\n",
            "[8, 33, 63, 66, 92, 124, 149, 193, 195, 217, 233, 241, 245, 247, 259, 290, 300, 307, 313, 318, 320, 321, 325, 340, 341, 352, 362, 380, 381, 403, 406, 412, 444, 445, 448, 468, 478, 479, 502, 507, 511, 515, 531, 542, 543, 551, 565, 569, 578, 582, 591, 605, 606, 610, 613, 619, 624, 628, 629, 658, 659, 684, 691, 692, 707, 714, 717, 720, 728, 738, 740, 741, 760, 781, 791, 800, 839, 844, 857, 877, 881, 882, 898, 924, 938, 939, 944, 947, 950, 956, 959, 965, 975, 982, 999, 1003, 1012, 1014, 1028, 1039, 1044, 1050, 1062, 1068, 1073, 1082, 1101, 1107, 1112, 1114, 1119, 1173, 1181, 1191, 1192, 1194, 1198, 1200, 1202, 1204, 1206, 1208, 1226, 1232, 1233, 1234, 1242, 1247, 1248, 1253, 1256, 1260, 1269, 1283, 1299, 1310, 1319, 1320, 1325, 1326, 1328, 1337, 1347, 1364, 1375, 1378, 1393, 1409, 1410, 1429, 1440, 1444, 1453, 1466, 1467, 1476, 1494, 1500, 1514, 1522, 1525, 1527, 1530, 1549, 1553, 1559, 1569, 1581, 1609, 1621, 1626, 1634, 1640, 1671, 1681, 1686, 1695, 1709, 1716, 1717, 1718, 1722, 1727, 1754, 1765, 1772, 1774, 1790, 1813, 1823, 1828, 1850, 1857, 1865, 1878, 1883, 1899, 1901, 1903, 1917, 1926, 1930, 1938, 1940, 1942, 1952, 1955, 1970, 1973, 1981, 1982, 1984, 2001, 2004, 2016, 2024, 2035, 2040, 2043, 2044, 2048, 2052, 2053, 2070, 2098, 2109, 2110, 2115, 2118, 2129, 2130, 2135, 2138, 2145, 2148, 2182, 2185, 2186, 2189, 2192, 2224, 2266, 2272, 2293, 2299, 2305, 2325, 2369, 2371, 2380, 2381, 2387, 2393, 2395, 2404, 2406, 2408, 2422, 2425, 2426, 2433, 2447, 2460, 2462, 2488, 2507, 2515, 2525, 2526, 2532, 2545, 2556, 2559, 2560, 2573, 2574, 2578, 2586, 2598, 2607, 2610, 2631, 2635, 2648, 2654, 2658, 2668, 2670, 2684, 2695, 2698, 2705, 2713, 2715, 2730, 2751, 2770, 2771, 2780, 2810, 2832, 2850, 2851, 2866, 2896, 2905, 2906, 2914, 2925, 2927, 2945, 2953, 2970, 2990, 2995, 2998, 3005, 3060, 3065, 3073, 3077, 3100, 3102, 3110, 3117, 3130, 3133, 3136, 3139, 3145, 3151, 3157, 3160, 3167, 3189, 3193, 3206, 3225, 3240, 3254, 3269, 3284, 3288, 3289, 3302, 3316, 3329, 3330, 3333, 3336, 3369, 3376, 3405, 3422, 3436, 3448, 3450, 3468, 3475, 3490, 3503, 3520, 3549, 3550, 3558, 3559, 3565, 3567, 3573, 3597, 3598, 3599, 3604, 3629, 3662, 3664, 3674, 3681, 3688, 3702, 3716, 3718, 3726, 3730, 3732, 3751, 3757, 3763, 3767, 3769, 3776, 3780, 3796, 3801, 3806, 3808, 3811, 3817, 3818, 3820, 3821, 3833, 3836, 3838, 3839, 3846, 3848, 3853, 3855, 3862, 3876, 3893, 3902, 3906, 3926, 3941, 3943, 3946, 3951, 3954, 3962, 3976, 3985, 4000, 4007, 4017, 4044, 4063, 4065, 4072, 4075, 4078, 4131, 4140, 4145, 4152, 4154, 4156, 4159, 4163, 4176, 4201, 4205, 4211, 4212, 4224, 4238, 4239, 4248, 4265, 4271, 4284, 4289, 4297, 4300, 4302, 4306, 4313, 4315, 4317, 4341, 4355, 4356, 4359, 4369, 4374, 4391, 4405, 4423, 4427, 4433, 4435, 4449, 4451, 4454, 4461, 4477, 4497, 4500, 4521, 4523, 4540, 4567, 4571, 4575, 4578, 4583, 4601, 4615, 4619, 4630, 4633, 4639, 4699, 4724, 4731, 4751, 4761, 4785, 4807, 4808, 4812, 4814, 4823, 4837, 4863, 4874, 4876, 4879, 4880, 4886, 4890, 4915, 4939, 4943, 4950, 4952, 4956, 4966, 4978, 4990, 5001, 5046, 5054, 5065, 5067, 5068, 5078, 5135, 5140, 5210, 5217, 5246, 5278, 5288, 5331, 5380, 5562, 5600, 5611, 5620, 5634, 5642, 5649, 5678, 5688, 5709, 5714, 5734, 5749, 5821, 5835, 5842, 5858, 5862, 5867, 5887, 5888, 5891, 5912, 5913, 5922, 5936, 5937, 5955, 5973, 5982, 5985, 6023, 6035, 6037, 6042, 6059, 6065, 6071, 6081, 6091, 6093, 6109, 6111, 6112, 6124, 6157, 6160, 6166, 6168, 6172, 6173, 6324, 6347, 6385, 6391, 6400, 6421, 6425, 6426, 6432, 6505, 6517, 6555, 6560, 6564, 6568, 6569, 6571, 6574, 6577, 6578, 6597, 6598, 6603, 6624, 6625, 6632, 6641, 6642, 6651, 6657, 6706, 6721, 6740, 6744, 6746, 6768, 6775, 6784, 6785, 6796, 6847, 6885, 6919, 6926, 6981, 7094, 7121, 7130, 7153, 7212, 7220, 7233, 7241, 7338, 7394, 7432, 7434, 7436, 7451, 7459, 7492, 7498, 7539, 7541, 7579, 7603, 7637, 7673, 7724, 7797, 7812, 7821, 7826, 7839, 7842, 7847, 7850, 7851, 7856, 7857, 7858, 7859, 7860, 7870, 7886, 7888, 7899, 7900, 7902, 7905, 7915, 7917, 7918, 7920, 7928, 7945, 7990, 7999, 8020, 8047, 8062, 8072, 8081, 8091, 8094, 8095, 8165, 8183, 8246, 8272, 8277, 8279, 8294, 8332, 8339, 8406, 8408, 8410, 8444, 8520, 8522, 8553, 8639, 9007, 9009, 9010, 9013, 9015, 9019, 9024, 9026, 9036, 9045, 9071, 9182, 9209, 9211, 9214, 9245, 9280, 9317, 9422, 9427, 9446, 9456, 9465, 9482, 9506, 9534, 9538, 9587, 9595, 9614, 9624, 9634, 9642, 9662, 9664, 9679, 9680, 9692, 9698, 9700, 9716, 9719, 9726, 9729, 9732, 9734, 9740, 9744, 9745, 9749, 9751, 9752, 9764, 9768, 9770, 9777, 9779, 9792, 9808, 9811, 9832, 9839, 9840, 9855, 9856, 9858, 9867, 9874, 9879, 9883, 9888, 9890, 9892, 9893, 9905, 9925, 9941, 9943, 9944, 9970, 9975, 9982, 9986]\n"
          ]
        },
        {
          "data": {
            "text/plain": [
              "794"
            ]
          },
          "execution_count": 35,
          "metadata": {},
          "output_type": "execute_result"
        }
      ],
      "source": [
        "predictions=model.predict(data_test)\n",
        "errors=[i for i,x in enumerate(data_test) if labels_test[i]!=np.argmax(predictions[i])]\n",
        "print(errors)\n",
        "len(errors)"
      ]
    },
    {
      "cell_type": "code",
      "execution_count": 36,
      "metadata": {
        "colab": {
          "base_uri": "https://localhost:8080/",
          "height": 546
        },
        "id": "G1VHEbjULr_w",
        "outputId": "b5a05f89-cdec-42db-de43-bd203c41cf89"
      },
      "outputs": [
        {
          "data": {
            "image/png": "[encoded data removed]",
            "text/plain": [
              "<Figure size 640x480 with 1 Axes>"
            ]
          },
          "metadata": {},
          "output_type": "display_data"
        },
        {
          "name": "stdout",
          "output_type": "stream",
          "text": [
            "Model prediction: 6\n"
          ]
        },
        {
          "data": {
            "image/png": "[encoded data removed]",
            "text/plain": [
              "<Figure size 640x480 with 1 Axes>"
            ]
          },
          "metadata": {},
          "output_type": "display_data"
        },
        {
          "name": "stdout",
          "output_type": "stream",
          "text": [
            "Model prediction: 5\n"
          ]
        },
        {
          "data": {
            "image/png": "[encoded data removed]",
            "text/plain": [
              "<Figure size 640x480 with 1 Axes>"
            ]
          },
          "metadata": {},
          "output_type": "display_data"
        },
        {
          "name": "stdout",
          "output_type": "stream",
          "text": [
            "Model prediction: 2\n"
          ]
        }
      ],
      "source": [
        "for i in errors[:3]:\n",
        "    plt.imshow(np.reshape(data_test[i], [28, 28]), cmap='gray')\n",
        "    plt.show()\n",
        "    print(\"Model prediction: %i\" % np.argmax(predictions[i]))"
      ]
    }
  ],
  "metadata": {
    "accelerator": "GPU",
    "colab": {
      "collapsed_sections": [],
      "name": "hello_world_keras.ipynb",
      "provenance": []
    },
    "kernelspec": {
      "display_name": "Python 3.9.15 ('tf.2.10')",
      "language": "python",
      "name": "python3"
    },
    "language_info": {
      "codemirror_mode": {
        "name": "ipython",
        "version": 3
      },
      "file_extension": ".py",
      "mimetype": "text/x-python",
      "name": "python",
      "nbconvert_exporter": "python",
      "pygments_lexer": "ipython3",
      "version": "3.9.15"
    },
    "vscode": {
      "interpreter": {
        "hash": "99625ecc8bb2af9755ead9d2c9b250592896013e5497bd032bb96f4fa6df6fa8"
      }
    }
  },
  "nbformat": 4,
  "nbformat_minor": 0
}
